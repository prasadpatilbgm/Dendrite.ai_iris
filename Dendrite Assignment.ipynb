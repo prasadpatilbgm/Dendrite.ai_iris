{
 "cells": [
  {
   "cell_type": "code",
   "execution_count": 1,
   "id": "197a3bdf",
   "metadata": {},
   "outputs": [],
   "source": [
    "# Import Required Libraries\n",
    "\n",
    "import numpy as np\n",
    "import pandas as pd\n",
    "import json\n",
    "from sklearn.metrics import mean_squared_error,mean_absolute_error"
   ]
  },
  {
   "cell_type": "markdown",
   "id": "41e7206f",
   "metadata": {},
   "source": [
    "### 1: Extract and Read Dataset"
   ]
  },
  {
   "cell_type": "code",
   "execution_count": 2,
   "id": "b3f56f1d",
   "metadata": {
    "scrolled": true
   },
   "outputs": [
    {
     "name": "stdout",
     "output_type": "stream",
     "text": [
      "{\n",
      "    \"session_name\": \"test\",\n",
      "    \"session_description\": \"test\",\n",
      "    \"design_state_data\": {\n",
      "\n",
      "      \"session_info\" : {\n",
      "        \"project_id\": \"1\",\n",
      "        \"experiment_id\": \"kkkk-11\",\n",
      "        \"dataset\":\"iris_modified.csv\",\n",
      "        \"session_name\": \"test\",\n",
      "        \"session_description\": \"test\"\n",
      "        },\n",
      "\n",
      "      \"target\": {\n",
      "        \"prediction_type\": \"Regression\",\n",
      "        \"target\": \"petal_width\",\n",
      "        \"type\":\"regression\",\n",
      "        \"partitioning\": true\n",
      "      },\n",
      "      \"train\": {\n",
      "        \"policy\": \"Split the dataset\",\n",
      "        \"time_variable\": \"sepal_length\",\n",
      "        \"sampling_method\": \"No sampling(whole data)\",\n",
      "        \"split\": \"Randomly\",\n",
      "        \"k_fold\": false,\n",
      "        \"train_ratio\": 0,\n",
      "        \"random_seed\": 0\n",
      "      },\n",
      "      \"metrics\": {\n",
      "        \"optomize_model_hyperparameters_for\": \"AUC\",\n",
      "        \"optimize_threshold_for\": \"F1 Score\",\n",
      "        \"compute_lift_at\": 0,\n",
      "        \"cost_matrix_gain_for_true_prediction_true_result\": 1,\n",
      "        \"cost_matrix_gain_for_true_prediction_false_result\": 0,\n",
      "        \"cost_matrix_gain_for_false_prediction_true_result\": 0,\n",
      "        \"cost_matrix_gain_for_false_prediction_false_result\": 0\n",
      "      },\n",
      "      \"feature_handling\": {\n",
      "        \"sepal_length\": {\n",
      "          \"feature_name\": \"sepal_length\",\n",
      "          \"is_selected\": true,\n",
      "          \"feature_variable_type\": \"numerical\",\n",
      "          \"feature_details\": {\n",
      "            \"numerical_handling\": \"Keep as regular numerical feature\",\n",
      "            \"rescaling\": \"No rescaling\",\n",
      "            \"make_derived_feats\": false,\n",
      "            \"missing_values\": \"Impute\",\n",
      "            \"impute_with\": \"Average of values\",\n",
      "            \"impute_value\": 0\n",
      "          }\n",
      "        },\n",
      "        \"sepal_width\": {\n",
      "          \"feature_name\": \"sepal_width\",\n",
      "          \"is_selected\": true,\n",
      "          \"feature_variable_type\": \"numerical\",\n",
      "          \"feature_details\": {\n",
      "            \"numerical_handling\": \"Keep as regular numerical feature\",\n",
      "            \"rescaling\": \"No rescaling\",\n",
      "            \"make_derived_feats\": false,\n",
      "            \"missing_values\": \"Impute\",\n",
      "            \"impute_with\": \"custom\",\n",
      "            \"impute_value\": -1\n",
      "          }\n",
      "        },\n",
      "        \"petal_length\": {\n",
      "          \"feature_name\": \"petal_length\",\n",
      "          \"is_selected\": true,\n",
      "          \"feature_variable_type\": \"numerical\",\n",
      "          \"feature_details\": {\n",
      "            \"numerical_handling\": \"Keep as regular numerical feature\",\n",
      "            \"rescaling\": \"No rescaling\",\n",
      "            \"make_derived_feats\": false,\n",
      "            \"missing_values\": \"Impute\",\n",
      "            \"impute_with\": \"Average of values\",\n",
      "            \"impute_value\": 0\n",
      "          }\n",
      "        },\n",
      "        \"petal_width\": {\n",
      "          \"feature_name\": \"petal_width\",\n",
      "          \"is_selected\": true,\n",
      "          \"feature_variable_type\": \"numerical\",\n",
      "          \"feature_details\": {\n",
      "            \"numerical_handling\": \"Keep as regular numerical feature\",\n",
      "            \"rescaling\": \"No rescaling\",\n",
      "            \"make_derived_feats\": false,\n",
      "            \"missing_values\": \"Impute\",\n",
      "            \"impute_with\": \"custom\",\n",
      "            \"impute_value\": -2\n",
      "          }\n",
      "        },\n",
      "        \"species\": {\n",
      "          \"feature_name\": \"species\",\n",
      "          \"is_selected\": true,\n",
      "          \"feature_variable_type\": \"text\",\n",
      "          \"feature_details\": {\n",
      "            \"text_handling\": \"Tokenize and hash\",\n",
      "            \"hash_columns\": 0\n",
      "          }\n",
      "        }\n",
      "      },\n",
      "      \"feature_generation\": {\n",
      "        \"linear_interactions\": [[\"petal_length\", \"sepal_width\"]],\n",
      "        \"linear_scalar_type\": \"robust\",\n",
      "        \"polynomial_interactions\": [\n",
      "          \"petal_length/sepal_width\",\n",
      "          \"petal_width/species\"\n",
      "        ],\n",
      "        \"explicit_pairwise_interactions\": [\n",
      "          \"sepal_width/sepal_length\",\n",
      "          \"petal_width/sepal_length\"\n",
      "        ]\n",
      "      },\n",
      "      \"feature_reduction\": {\n",
      "        \"feature_reduction_method\": \"Tree-based\",\n",
      "        \"num_of_features_to_keep\": \"4\",\n",
      "        \"num_of_trees\": \"5\",\n",
      "        \"depth_of_trees\": \"6\"\n",
      "      },\n",
      "      \"hyperparameters\": {\n",
      "        \"stratergy\": \"Grid Search\",\n",
      "        \"shuffle_grid\": true,\n",
      "        \"random_state\": 1,\n",
      "        \"max_iterations\": 2,\n",
      "        \"max_search_time\": 3,\n",
      "        \"parallelism\": 5,\n",
      "        \"cross_validation_stratergy\": \"Time-based K-fold(with overlap)\",\n",
      "        \"num_of_folds\": 6,\n",
      "        \"split_ratio\": 0,\n",
      "        \"stratified\": true\n",
      "      },\n",
      "      \"weighting_stratergy\": {\n",
      "        \"weighting_stratergy_method\": \"Sample weights\",\n",
      "        \"weighting_stratergy_weight_variable\": \"petal_length\"\n",
      "      },\n",
      "      \"probability_calibration\": {\n",
      "        \"probability_calibration_method\": \"Sigmoid - Platt Scaling\"\n",
      "      },\n",
      "      \"algorithms\": {\n",
      "        \"RandomForestClassifier\": {\n",
      "          \"model_name\": \"Random Forest Classifier\",\n",
      "          \"is_selected\": false,\n",
      "          \"min_trees\": 10,\n",
      "          \"max_trees\": 30,\n",
      "          \"feature_sampling_statergy\": \"Default\",\n",
      "          \"min_depth\": 20,\n",
      "          \"max_depth\": 30,\n",
      "          \"min_samples_per_leaf_min_value\": 5,\n",
      "          \"min_samples_per_leaf_max_value\": 50,\n",
      "          \"parallelism\": 0\n",
      "        },\n",
      "        \"RandomForestRegressor\": {\n",
      "          \"model_name\": \"Random Forest Regressor\",\n",
      "          \"is_selected\": true,\n",
      "          \"min_trees\": 10,\n",
      "          \"max_trees\": 20,\n",
      "          \"feature_sampling_statergy\": \"Default\",\n",
      "          \"min_depth\": 20,\n",
      "          \"max_depth\": 25,\n",
      "          \"min_samples_per_leaf_min_value\": 5,\n",
      "          \"min_samples_per_leaf_max_value\": 10,\n",
      "          \"parallelism\": 0\n",
      "        },\n",
      "        \"GBTClassifier\": {\n",
      "          \"model_name\": \"Gradient Boosted Trees\",\n",
      "          \"is_selected\": false,\n",
      "          \"num_of_BoostingStages\": [67, 89],\n",
      "          \"feature_sampling_statergy\": \"Fixed number\",\n",
      "          \"learningRate\": [],\n",
      "          \"use_deviance\": true,\n",
      "          \"use_exponential\": false,\n",
      "          \"fixed_number\": 22,\n",
      "          \"min_subsample\": 1,\n",
      "          \"max_subsample\": 2,\n",
      "          \"min_stepsize\":0.1,\n",
      "          \"max_stepsize\":0.5, \n",
      "          \"min_iter\":20,\n",
      "          \"max_iter\":40,\n",
      "          \"min_depth\":5,\n",
      "          \"max_depth\":7\n",
      "\n",
      "        },\n",
      "        \"GBTRegressor\": {\n",
      "          \"model_name\": \"Gradient Boosted Trees\",\n",
      "          \"is_selected\": false,\n",
      "          \"num_of_BoostingStages\": [67, 89],\n",
      "          \"feature_sampling_statergy\": \"Fixed number\",\n",
      "          \"use_deviance\": true,\n",
      "          \"use_exponential\": false,\n",
      "          \"fixed_number\": 22,\n",
      "          \"min_subsample\": 1,\n",
      "          \"max_subsample\": 2,\n",
      "          \"min_stepsize\":0.1,\n",
      "          \"max_stepsize\":0.5, \n",
      "          \"min_iter\":20,\n",
      "          \"max_iter\":40,\n",
      "          \"min_depth\":5,\n",
      "          \"max_depth\":7\n",
      "        },\n",
      "        \"LinearRegression\": {\n",
      "          \"model_name\": \"LinearRegression\",\n",
      "          \"is_selected\": false,\n",
      "          \"parallelism\": 2,\n",
      "          \"min_iter\":30,\n",
      "          \"max_iter\":50,\n",
      "          \"min_regparam\":0.5,\n",
      "          \"max_regparam\":0.8,\n",
      "          \"min_elasticnet\":0.5,\n",
      "          \"max_elasticnet\":0.8\n",
      "        },\n",
      "        \"LogisticRegression\": {\n",
      "          \"model_name\": \"LogisticRegression\",\n",
      "          \"is_selected\": false,\n",
      "          \"parallelism\": 2,\n",
      "          \"min_iter\":30,\n",
      "          \"max_iter\":50,\n",
      "          \"min_regparam\":0.5,\n",
      "          \"max_regparam\":0.8,\n",
      "          \"min_elasticnet\":0.5,\n",
      "          \"max_elasticnet\":0.8\n",
      "        },\n",
      "        \"RidgeRegression\": {\n",
      "          \"model_name\": \"RidgeRegression\",\n",
      "          \"is_selected\": false,\n",
      "          \"regularization_term\": \"Specify values to test\",\n",
      "          \"min_iter\":30,\n",
      "          \"max_iter\":50,\n",
      "          \"min_regparam\":0.5,\n",
      "          \"max_regparam\":0.8\n",
      "        },\n",
      "        \"LassoRegression\": {\n",
      "          \"model_name\": \"Lasso Regression\",\n",
      "          \"is_selected\": false,\n",
      "          \"regularization_term\": \"Specify values to test\",\n",
      "          \"min_iter\":30,\n",
      "          \"max_iter\":50,\n",
      "          \"min_regparam\":0.5,\n",
      "          \"max_regparam\":0.8\n",
      "        },\n",
      "        \"ElasticNetRegression\": {\n",
      "          \"model_name\": \"Lasso Regression\",\n",
      "          \"is_selected\": false,\n",
      "          \"regularization_term\": \"Specify values to test\",\n",
      "          \"min_iter\":30,\n",
      "          \"max_iter\":50,\n",
      "          \"min_regparam\":0.5,\n",
      "          \"max_regparam\":0.8,\n",
      "          \"min_elasticnet\":0.5,\n",
      "          \"max_elasticnet\":0.8\n",
      "        },\n",
      "        \"xg_boost\": {\n",
      "          \"model_name\": \"XG Boost\",\n",
      "          \"is_selected\": false,\n",
      "          \"use_gradient_boosted_tree\": true,\n",
      "          \"dart\": true,\n",
      "          \"tree_method\": \"\",\n",
      "          \"random_state\": 0,\n",
      "          \"max_num_of_trees\": 0,\n",
      "          \"early_stopping\": true,\n",
      "          \"early_stopping_rounds\": 2,\n",
      "          \"max_depth_of_tree\": [56, 89], \n",
      "          \"learningRate\": [89, 76],\n",
      "          \"l1_regularization\": [77],\n",
      "          \"l2_regularization\": [78],\n",
      "          \"gamma\": [68],\n",
      "          \"min_child_weight\": [67],\n",
      "          \"sub_sample\": [67],\n",
      "          \"col_sample_by_tree\": [67],\n",
      "          \"replace_missing_values\": false,\n",
      "          \"parallelism\": 0\n",
      "        },\n",
      "        \"DecisionTreeRegressor\": {\n",
      "          \"model_name\": \"Decision Tree\",\n",
      "          \"is_selected\": false,\n",
      "          \"min_depth\":4,\n",
      "          \"max_depth\": 7,\n",
      "          \"use_gini\": false,\n",
      "          \"use_entropy\": true,\n",
      "          \"min_samples_per_leaf\": [12, 6],\n",
      "          \"use_best\": true,\n",
      "          \"use_random\": true\n",
      "        },\n",
      "        \"DecisionTreeClassifier\": {\n",
      "          \"model_name\": \"Decision Tree\",\n",
      "          \"is_selected\": false,\n",
      "          \"min_depth\":4,\n",
      "          \"max_depth\": 7,\n",
      "          \"use_gini\": false,\n",
      "          \"use_entropy\": true,\n",
      "          \"min_samples_per_leaf\": [12, 6],\n",
      "          \"use_best\": true,\n",
      "          \"use_random\": true\n",
      "        },\n",
      "        \"SVM\": {\n",
      "          \"model_name\": \"Support Vector Machine\",\n",
      "          \"is_selected\": false,\n",
      "          \"linear_kernel\": true,\n",
      "          \"rep_kernel\": true,\n",
      "          \"polynomial_kernel\": true,\n",
      "          \"sigmoid_kernel\": true,\n",
      "          \"c_value\": [566, 79],\n",
      "          \"auto\": true,\n",
      "          \"scale\": true,\n",
      "          \"custom_gamma_values\": true,\n",
      "          \"tolerance\": 7,\n",
      "          \"max_iterations\": 7\n",
      "        },\n",
      "        \"SGD\": {\n",
      "          \"model_name\": \"Stochastic Gradient Descent\",\n",
      "          \"is_selected\": false,\n",
      "          \"use_logistics\": true,\n",
      "          \"use_modified_hubber_loss\": false,\n",
      "          \"max_iterations\": false,\n",
      "          \"tolerance\": 56,\n",
      "          \"use_l1_regularization\": \"on\",\n",
      "          \"use_l2_regularization\": \"on\",\n",
      "          \"use_elastic_net_regularization\": true,\n",
      "          \"alpha_value\": [79, 56],\n",
      "          \"parallelism\": 1\n",
      "        },\n",
      "        \"KNN\": {\n",
      "          \"model_name\": \"KNN\",\n",
      "          \"is_selected\": false,\n",
      "          \"k_value\": [78],\n",
      "          \"distance_weighting\": true,\n",
      "          \"neighbour_finding_algorithm\": \"Automatic\",\n",
      "          \"random_state\": 0,\n",
      "          \"p_value\": 0\n",
      "        },\n",
      "        \"extra_random_trees\": {\n",
      "          \"model_name\": \"Extra Random Trees\",\n",
      "          \"is_selected\": false,\n",
      "          \"num_of_trees\": [45, 489],\n",
      "          \"feature_sampling_statergy\": \"Square root and Logarithm\",\n",
      "          \"max_depth\": [12, 45],\n",
      "          \"min_samples_per_leaf\": [78, 56],\n",
      "          \"parallelism\": 3\n",
      "        },\n",
      "        \"neural_network\": {\n",
      "          \"model_name\": \"Neural Network\",\n",
      "          \"is_selected\": false,\n",
      "          \"hidden_layer_sizes\": [67, 89],\n",
      "          \"activation\": \"\",\n",
      "          \"alpha_value\": 0,\n",
      "          \"max_iterations\": 0,\n",
      "          \"convergence_tolerance\": 0,\n",
      "          \"early_stopping\": true,\n",
      "          \"solver\": \"ADAM\",\n",
      "          \"shuffle_data\": true,\n",
      "          \"initial_learning_rate\": 0,\n",
      "          \"automatic_batching\": true,\n",
      "          \"beta_1\": 0,\n",
      "          \"beta_2\": 0,\n",
      "          \"epsilon\": 0,\n",
      "          \"power_t\": 0,\n",
      "          \"momentum\": 0,\n",
      "          \"use_nesterov_momentum\": false\n",
      "        }\n",
      "      }\n",
      "    }\n",
      "  }\n",
      "  \n",
      "\n",
      "\n"
     ]
    }
   ],
   "source": [
    "# Extracting text\n",
    "\n",
    "from striprtf.striprtf import rtf_to_text\n",
    "\n",
    "with open(\"algoparams_from_ui.json.rtf\") as infile:\n",
    "    content = infile.read()\n",
    "    text = rtf_to_text(content)\n",
    "print(text)  "
   ]
  },
  {
   "cell_type": "code",
   "execution_count": 3,
   "id": "10b86527",
   "metadata": {},
   "outputs": [
    {
     "data": {
      "text/plain": [
       "str"
      ]
     },
     "execution_count": 3,
     "metadata": {},
     "output_type": "execute_result"
    }
   ],
   "source": [
    "type(text)"
   ]
  },
  {
   "cell_type": "code",
   "execution_count": 4,
   "id": "fe872b4c",
   "metadata": {},
   "outputs": [],
   "source": [
    "\n",
    "data_UI= json.loads(text)"
   ]
  },
  {
   "cell_type": "code",
   "execution_count": 5,
   "id": "b58a53ef",
   "metadata": {},
   "outputs": [
    {
     "data": {
      "text/plain": [
       "dict"
      ]
     },
     "execution_count": 5,
     "metadata": {},
     "output_type": "execute_result"
    }
   ],
   "source": [
    "type(data_UI)"
   ]
  },
  {
   "cell_type": "markdown",
   "id": "14ad8bc6",
   "metadata": {},
   "source": [
    "### 2: Reading Features & Feature Handling"
   ]
  },
  {
   "cell_type": "code",
   "execution_count": 6,
   "id": "f5f76e27",
   "metadata": {
    "scrolled": true
   },
   "outputs": [],
   "source": [
    "df = pd.read_csv(data_UI['design_state_data']['session_info']['dataset'])"
   ]
  },
  {
   "cell_type": "code",
   "execution_count": 7,
   "id": "b43fd4f8",
   "metadata": {},
   "outputs": [],
   "source": [
    "Target = data_UI['design_state_data']['target']\n",
    "Models = data_UI['design_state_data']['algorithms']"
   ]
  },
  {
   "cell_type": "code",
   "execution_count": 8,
   "id": "a909057b",
   "metadata": {},
   "outputs": [
    {
     "data": {
      "text/plain": [
       "{'prediction_type': 'Regression',\n",
       " 'target': 'petal_width',\n",
       " 'type': 'regression',\n",
       " 'partitioning': True}"
      ]
     },
     "execution_count": 8,
     "metadata": {},
     "output_type": "execute_result"
    }
   ],
   "source": [
    "Target"
   ]
  },
  {
   "cell_type": "code",
   "execution_count": 9,
   "id": "c3204836",
   "metadata": {
    "scrolled": true
   },
   "outputs": [
    {
     "data": {
      "text/plain": [
       "{'RandomForestClassifier': {'model_name': 'Random Forest Classifier',\n",
       "  'is_selected': False,\n",
       "  'min_trees': 10,\n",
       "  'max_trees': 30,\n",
       "  'feature_sampling_statergy': 'Default',\n",
       "  'min_depth': 20,\n",
       "  'max_depth': 30,\n",
       "  'min_samples_per_leaf_min_value': 5,\n",
       "  'min_samples_per_leaf_max_value': 50,\n",
       "  'parallelism': 0},\n",
       " 'RandomForestRegressor': {'model_name': 'Random Forest Regressor',\n",
       "  'is_selected': True,\n",
       "  'min_trees': 10,\n",
       "  'max_trees': 20,\n",
       "  'feature_sampling_statergy': 'Default',\n",
       "  'min_depth': 20,\n",
       "  'max_depth': 25,\n",
       "  'min_samples_per_leaf_min_value': 5,\n",
       "  'min_samples_per_leaf_max_value': 10,\n",
       "  'parallelism': 0},\n",
       " 'GBTClassifier': {'model_name': 'Gradient Boosted Trees',\n",
       "  'is_selected': False,\n",
       "  'num_of_BoostingStages': [67, 89],\n",
       "  'feature_sampling_statergy': 'Fixed number',\n",
       "  'learningRate': [],\n",
       "  'use_deviance': True,\n",
       "  'use_exponential': False,\n",
       "  'fixed_number': 22,\n",
       "  'min_subsample': 1,\n",
       "  'max_subsample': 2,\n",
       "  'min_stepsize': 0.1,\n",
       "  'max_stepsize': 0.5,\n",
       "  'min_iter': 20,\n",
       "  'max_iter': 40,\n",
       "  'min_depth': 5,\n",
       "  'max_depth': 7},\n",
       " 'GBTRegressor': {'model_name': 'Gradient Boosted Trees',\n",
       "  'is_selected': False,\n",
       "  'num_of_BoostingStages': [67, 89],\n",
       "  'feature_sampling_statergy': 'Fixed number',\n",
       "  'use_deviance': True,\n",
       "  'use_exponential': False,\n",
       "  'fixed_number': 22,\n",
       "  'min_subsample': 1,\n",
       "  'max_subsample': 2,\n",
       "  'min_stepsize': 0.1,\n",
       "  'max_stepsize': 0.5,\n",
       "  'min_iter': 20,\n",
       "  'max_iter': 40,\n",
       "  'min_depth': 5,\n",
       "  'max_depth': 7},\n",
       " 'LinearRegression': {'model_name': 'LinearRegression',\n",
       "  'is_selected': False,\n",
       "  'parallelism': 2,\n",
       "  'min_iter': 30,\n",
       "  'max_iter': 50,\n",
       "  'min_regparam': 0.5,\n",
       "  'max_regparam': 0.8,\n",
       "  'min_elasticnet': 0.5,\n",
       "  'max_elasticnet': 0.8},\n",
       " 'LogisticRegression': {'model_name': 'LogisticRegression',\n",
       "  'is_selected': False,\n",
       "  'parallelism': 2,\n",
       "  'min_iter': 30,\n",
       "  'max_iter': 50,\n",
       "  'min_regparam': 0.5,\n",
       "  'max_regparam': 0.8,\n",
       "  'min_elasticnet': 0.5,\n",
       "  'max_elasticnet': 0.8},\n",
       " 'RidgeRegression': {'model_name': 'RidgeRegression',\n",
       "  'is_selected': False,\n",
       "  'regularization_term': 'Specify values to test',\n",
       "  'min_iter': 30,\n",
       "  'max_iter': 50,\n",
       "  'min_regparam': 0.5,\n",
       "  'max_regparam': 0.8},\n",
       " 'LassoRegression': {'model_name': 'Lasso Regression',\n",
       "  'is_selected': False,\n",
       "  'regularization_term': 'Specify values to test',\n",
       "  'min_iter': 30,\n",
       "  'max_iter': 50,\n",
       "  'min_regparam': 0.5,\n",
       "  'max_regparam': 0.8},\n",
       " 'ElasticNetRegression': {'model_name': 'Lasso Regression',\n",
       "  'is_selected': False,\n",
       "  'regularization_term': 'Specify values to test',\n",
       "  'min_iter': 30,\n",
       "  'max_iter': 50,\n",
       "  'min_regparam': 0.5,\n",
       "  'max_regparam': 0.8,\n",
       "  'min_elasticnet': 0.5,\n",
       "  'max_elasticnet': 0.8},\n",
       " 'xg_boost': {'model_name': 'XG Boost',\n",
       "  'is_selected': False,\n",
       "  'use_gradient_boosted_tree': True,\n",
       "  'dart': True,\n",
       "  'tree_method': '',\n",
       "  'random_state': 0,\n",
       "  'max_num_of_trees': 0,\n",
       "  'early_stopping': True,\n",
       "  'early_stopping_rounds': 2,\n",
       "  'max_depth_of_tree': [56, 89],\n",
       "  'learningRate': [89, 76],\n",
       "  'l1_regularization': [77],\n",
       "  'l2_regularization': [78],\n",
       "  'gamma': [68],\n",
       "  'min_child_weight': [67],\n",
       "  'sub_sample': [67],\n",
       "  'col_sample_by_tree': [67],\n",
       "  'replace_missing_values': False,\n",
       "  'parallelism': 0},\n",
       " 'DecisionTreeRegressor': {'model_name': 'Decision Tree',\n",
       "  'is_selected': False,\n",
       "  'min_depth': 4,\n",
       "  'max_depth': 7,\n",
       "  'use_gini': False,\n",
       "  'use_entropy': True,\n",
       "  'min_samples_per_leaf': [12, 6],\n",
       "  'use_best': True,\n",
       "  'use_random': True},\n",
       " 'DecisionTreeClassifier': {'model_name': 'Decision Tree',\n",
       "  'is_selected': False,\n",
       "  'min_depth': 4,\n",
       "  'max_depth': 7,\n",
       "  'use_gini': False,\n",
       "  'use_entropy': True,\n",
       "  'min_samples_per_leaf': [12, 6],\n",
       "  'use_best': True,\n",
       "  'use_random': True},\n",
       " 'SVM': {'model_name': 'Support Vector Machine',\n",
       "  'is_selected': False,\n",
       "  'linear_kernel': True,\n",
       "  'rep_kernel': True,\n",
       "  'polynomial_kernel': True,\n",
       "  'sigmoid_kernel': True,\n",
       "  'c_value': [566, 79],\n",
       "  'auto': True,\n",
       "  'scale': True,\n",
       "  'custom_gamma_values': True,\n",
       "  'tolerance': 7,\n",
       "  'max_iterations': 7},\n",
       " 'SGD': {'model_name': 'Stochastic Gradient Descent',\n",
       "  'is_selected': False,\n",
       "  'use_logistics': True,\n",
       "  'use_modified_hubber_loss': False,\n",
       "  'max_iterations': False,\n",
       "  'tolerance': 56,\n",
       "  'use_l1_regularization': 'on',\n",
       "  'use_l2_regularization': 'on',\n",
       "  'use_elastic_net_regularization': True,\n",
       "  'alpha_value': [79, 56],\n",
       "  'parallelism': 1},\n",
       " 'KNN': {'model_name': 'KNN',\n",
       "  'is_selected': False,\n",
       "  'k_value': [78],\n",
       "  'distance_weighting': True,\n",
       "  'neighbour_finding_algorithm': 'Automatic',\n",
       "  'random_state': 0,\n",
       "  'p_value': 0},\n",
       " 'extra_random_trees': {'model_name': 'Extra Random Trees',\n",
       "  'is_selected': False,\n",
       "  'num_of_trees': [45, 489],\n",
       "  'feature_sampling_statergy': 'Square root and Logarithm',\n",
       "  'max_depth': [12, 45],\n",
       "  'min_samples_per_leaf': [78, 56],\n",
       "  'parallelism': 3},\n",
       " 'neural_network': {'model_name': 'Neural Network',\n",
       "  'is_selected': False,\n",
       "  'hidden_layer_sizes': [67, 89],\n",
       "  'activation': '',\n",
       "  'alpha_value': 0,\n",
       "  'max_iterations': 0,\n",
       "  'convergence_tolerance': 0,\n",
       "  'early_stopping': True,\n",
       "  'solver': 'ADAM',\n",
       "  'shuffle_data': True,\n",
       "  'initial_learning_rate': 0,\n",
       "  'automatic_batching': True,\n",
       "  'beta_1': 0,\n",
       "  'beta_2': 0,\n",
       "  'epsilon': 0,\n",
       "  'power_t': 0,\n",
       "  'momentum': 0,\n",
       "  'use_nesterov_momentum': False}}"
      ]
     },
     "execution_count": 9,
     "metadata": {},
     "output_type": "execute_result"
    }
   ],
   "source": [
    "Models"
   ]
  },
  {
   "cell_type": "markdown",
   "id": "8d3d8176",
   "metadata": {},
   "source": [
    "#### EDA"
   ]
  },
  {
   "cell_type": "code",
   "execution_count": 10,
   "id": "75a7f1af",
   "metadata": {},
   "outputs": [],
   "source": [
    "#read csv file\n",
    "\n",
    "data = pd.read_csv('iris.csv')"
   ]
  },
  {
   "cell_type": "code",
   "execution_count": 11,
   "id": "497f22b6",
   "metadata": {},
   "outputs": [
    {
     "data": {
      "text/plain": [
       "(150, 5)"
      ]
     },
     "execution_count": 11,
     "metadata": {},
     "output_type": "execute_result"
    }
   ],
   "source": [
    "data.shape"
   ]
  },
  {
   "cell_type": "code",
   "execution_count": 12,
   "id": "424ae1bd",
   "metadata": {},
   "outputs": [
    {
     "data": {
      "text/plain": [
       "sepal_length    0\n",
       "sepal_width     0\n",
       "petal_length    0\n",
       "petal_width     0\n",
       "species         0\n",
       "dtype: int64"
      ]
     },
     "execution_count": 12,
     "metadata": {},
     "output_type": "execute_result"
    }
   ],
   "source": [
    "#Checking for null values are present or not\n",
    "data.isnull().sum()"
   ]
  },
  {
   "cell_type": "code",
   "execution_count": 13,
   "id": "a21d6e7b",
   "metadata": {},
   "outputs": [
    {
     "data": {
      "text/plain": [
       "Iris-setosa        50\n",
       "Iris-versicolor    50\n",
       "Iris-virginica     50\n",
       "Name: species, dtype: int64"
      ]
     },
     "execution_count": 13,
     "metadata": {},
     "output_type": "execute_result"
    }
   ],
   "source": [
    "data['species'].value_counts()\n"
   ]
  },
  {
   "cell_type": "code",
   "execution_count": 14,
   "id": "302a76e1",
   "metadata": {},
   "outputs": [
    {
     "data": {
      "text/html": [
       "<div>\n",
       "<style scoped>\n",
       "    .dataframe tbody tr th:only-of-type {\n",
       "        vertical-align: middle;\n",
       "    }\n",
       "\n",
       "    .dataframe tbody tr th {\n",
       "        vertical-align: top;\n",
       "    }\n",
       "\n",
       "    .dataframe thead th {\n",
       "        text-align: right;\n",
       "    }\n",
       "</style>\n",
       "<table border=\"1\" class=\"dataframe\">\n",
       "  <thead>\n",
       "    <tr style=\"text-align: right;\">\n",
       "      <th></th>\n",
       "      <th>sepal_length</th>\n",
       "      <th>sepal_width</th>\n",
       "      <th>petal_length</th>\n",
       "      <th>petal_width</th>\n",
       "    </tr>\n",
       "  </thead>\n",
       "  <tbody>\n",
       "    <tr>\n",
       "      <th>count</th>\n",
       "      <td>150.000000</td>\n",
       "      <td>150.000000</td>\n",
       "      <td>150.000000</td>\n",
       "      <td>150.000000</td>\n",
       "    </tr>\n",
       "    <tr>\n",
       "      <th>mean</th>\n",
       "      <td>5.843333</td>\n",
       "      <td>3.054000</td>\n",
       "      <td>3.758667</td>\n",
       "      <td>1.198667</td>\n",
       "    </tr>\n",
       "    <tr>\n",
       "      <th>std</th>\n",
       "      <td>0.828066</td>\n",
       "      <td>0.433594</td>\n",
       "      <td>1.764420</td>\n",
       "      <td>0.763161</td>\n",
       "    </tr>\n",
       "    <tr>\n",
       "      <th>min</th>\n",
       "      <td>4.300000</td>\n",
       "      <td>2.000000</td>\n",
       "      <td>1.000000</td>\n",
       "      <td>0.100000</td>\n",
       "    </tr>\n",
       "    <tr>\n",
       "      <th>25%</th>\n",
       "      <td>5.100000</td>\n",
       "      <td>2.800000</td>\n",
       "      <td>1.600000</td>\n",
       "      <td>0.300000</td>\n",
       "    </tr>\n",
       "    <tr>\n",
       "      <th>50%</th>\n",
       "      <td>5.800000</td>\n",
       "      <td>3.000000</td>\n",
       "      <td>4.350000</td>\n",
       "      <td>1.300000</td>\n",
       "    </tr>\n",
       "    <tr>\n",
       "      <th>75%</th>\n",
       "      <td>6.400000</td>\n",
       "      <td>3.300000</td>\n",
       "      <td>5.100000</td>\n",
       "      <td>1.800000</td>\n",
       "    </tr>\n",
       "    <tr>\n",
       "      <th>max</th>\n",
       "      <td>7.900000</td>\n",
       "      <td>4.400000</td>\n",
       "      <td>6.900000</td>\n",
       "      <td>2.500000</td>\n",
       "    </tr>\n",
       "  </tbody>\n",
       "</table>\n",
       "</div>"
      ],
      "text/plain": [
       "       sepal_length  sepal_width  petal_length  petal_width\n",
       "count    150.000000   150.000000    150.000000   150.000000\n",
       "mean       5.843333     3.054000      3.758667     1.198667\n",
       "std        0.828066     0.433594      1.764420     0.763161\n",
       "min        4.300000     2.000000      1.000000     0.100000\n",
       "25%        5.100000     2.800000      1.600000     0.300000\n",
       "50%        5.800000     3.000000      4.350000     1.300000\n",
       "75%        6.400000     3.300000      5.100000     1.800000\n",
       "max        7.900000     4.400000      6.900000     2.500000"
      ]
     },
     "execution_count": 14,
     "metadata": {},
     "output_type": "execute_result"
    }
   ],
   "source": [
    "data.describe()"
   ]
  },
  {
   "cell_type": "code",
   "execution_count": 15,
   "id": "6eca974a",
   "metadata": {},
   "outputs": [
    {
     "name": "stdout",
     "output_type": "stream",
     "text": [
      "<class 'pandas.core.frame.DataFrame'>\n",
      "RangeIndex: 150 entries, 0 to 149\n",
      "Data columns (total 5 columns):\n",
      " #   Column        Non-Null Count  Dtype  \n",
      "---  ------        --------------  -----  \n",
      " 0   sepal_length  150 non-null    float64\n",
      " 1   sepal_width   150 non-null    float64\n",
      " 2   petal_length  150 non-null    float64\n",
      " 3   petal_width   150 non-null    float64\n",
      " 4   species       150 non-null    object \n",
      "dtypes: float64(4), object(1)\n",
      "memory usage: 6.0+ KB\n"
     ]
    }
   ],
   "source": [
    "data.info()"
   ]
  },
  {
   "cell_type": "code",
   "execution_count": 16,
   "id": "a9907d23",
   "metadata": {},
   "outputs": [],
   "source": [
    "# Encoding the dataset\n",
    "\n",
    "data = pd.get_dummies(data,columns=['species'],drop_first = True)"
   ]
  },
  {
   "cell_type": "code",
   "execution_count": 17,
   "id": "344a2b95",
   "metadata": {},
   "outputs": [],
   "source": [
    "X = data.drop(columns = ['petal_width'],axis = 1)\n",
    "Y = data.petal_width"
   ]
  },
  {
   "cell_type": "markdown",
   "id": "1467dc36",
   "metadata": {},
   "source": [
    "### 3: Building Models"
   ]
  },
  {
   "cell_type": "code",
   "execution_count": 18,
   "id": "c7175b20",
   "metadata": {},
   "outputs": [],
   "source": [
    "from sklearn.model_selection import train_test_split\n",
    "X_train, X_test, Y_train, Y_test = train_test_split(X,Y, test_size=0.2, random_state=2)"
   ]
  },
  {
   "cell_type": "code",
   "execution_count": 19,
   "id": "8462b490",
   "metadata": {},
   "outputs": [
    {
     "name": "stdout",
     "output_type": "stream",
     "text": [
      "Random Forest Regression Training Accuracy: 95.54365842528117\n"
     ]
    }
   ],
   "source": [
    "#Using Random Forest Regression\n",
    "\n",
    "from sklearn.ensemble import RandomForestRegressor\n",
    "rfr = RandomForestRegressor(n_estimators = 20 ,max_depth = 20 , min_samples_leaf = 10)\n",
    "rfr.fit(X_train,Y_train)\n",
    "print('Random Forest Regression Training Accuracy:', rfr.score(X_train, Y_train)*100) "
   ]
  },
  {
   "cell_type": "code",
   "execution_count": 20,
   "id": "6fe3b98b",
   "metadata": {},
   "outputs": [
    {
     "name": "stdout",
     "output_type": "stream",
     "text": [
      "Mean Squared Error for Random_Forest_Regressor :  0.03119322441094824\n",
      "Root Mean Squared Error Random_Fores_tRegressor : 0.17661603667546227\n",
      "Mean Absolute Error for Random_Forest_Regressor :0.13131017561437552\n"
     ]
    }
   ],
   "source": [
    "pred = rfr.predict(X_test)\n",
    "mse = mean_squared_error(Y_test,pred)\n",
    "rmse = mean_squared_error(Y_test,pred,squared=False)\n",
    "mae = mean_absolute_error(Y_test,pred)\n",
    "print(f\"Mean Squared Error for Random_Forest_Regressor :  {mse}\")\n",
    "print(f\"Root Mean Squared Error Random_Fores_tRegressor : {rmse}\")\n",
    "print(f\"Mean Absolute Error for Random_Forest_Regressor :{mae}\")"
   ]
  },
  {
   "cell_type": "raw",
   "id": "6fe947fb",
   "metadata": {},
   "source": [
    "-------------------------------------------------------------------------------------------------------------------------------"
   ]
  },
  {
   "cell_type": "code",
   "execution_count": 21,
   "id": "43c86f50",
   "metadata": {},
   "outputs": [
    {
     "name": "stdout",
     "output_type": "stream",
     "text": [
      "Linear Regression Training Accuracy: 95.37415449043009\n"
     ]
    }
   ],
   "source": [
    "#Using Linear Regression\n",
    "from sklearn.linear_model import LinearRegression\n",
    "lr = LinearRegression()\n",
    "lr.fit(X_train,Y_train)\n",
    "print('Linear Regression Training Accuracy:', lr.score(X_train, Y_train)*100)"
   ]
  },
  {
   "cell_type": "code",
   "execution_count": 22,
   "id": "32f55b35",
   "metadata": {},
   "outputs": [
    {
     "name": "stdout",
     "output_type": "stream",
     "text": [
      "Mean Squared Error for Linear_Regression :  0.02940100195363566\n",
      "Root Mean Squared Error Linear_Regression : 0.17146720372606436\n",
      "Mean Absolute Error for Linear_Regression : 0.12488333462996462\n"
     ]
    }
   ],
   "source": [
    "pred = lr.predict(X_test)\n",
    "mse = mean_squared_error(Y_test,pred)\n",
    "rmse = mean_squared_error(Y_test,pred,squared=False)\n",
    "mae = mean_absolute_error(Y_test,pred)\n",
    "print(f\"Mean Squared Error for Linear_Regression :  {mse}\")\n",
    "print(f\"Root Mean Squared Error Linear_Regression : {rmse}\")\n",
    "print(f\"Mean Absolute Error for Linear_Regression : {mae}\")"
   ]
  },
  {
   "cell_type": "raw",
   "id": "e9ddf5b8",
   "metadata": {},
   "source": [
    "-------------------------------------------------------------------------------------------------------------------------------"
   ]
  },
  {
   "cell_type": "code",
   "execution_count": 23,
   "id": "ecf7e64a",
   "metadata": {},
   "outputs": [
    {
     "name": "stdout",
     "output_type": "stream",
     "text": [
      "Gradient Boosting Regressor Training Accuracy: 99.99244317158403\n"
     ]
    }
   ],
   "source": [
    "#Using Gradient Boosting Regressor\n",
    "from sklearn.ensemble import GradientBoostingRegressor\n",
    "gbtr = GradientBoostingRegressor(n_estimators= 89,max_depth=7)\n",
    "gbtr.fit(X_train,Y_train)\n",
    "print('Gradient Boosting Regressor Training Accuracy:', gbtr.score(X_train, Y_train)*100)  "
   ]
  },
  {
   "cell_type": "code",
   "execution_count": 24,
   "id": "de87ff3e",
   "metadata": {},
   "outputs": [
    {
     "name": "stdout",
     "output_type": "stream",
     "text": [
      "Mean Squared Error for Gradient_Boosting_Regressor :  0.0490859163852967\n",
      "Root Mean Squared Error Gradient_Boosting_Regressor : 0.22155341655071967\n",
      "Mean Absolute Error for Gradient_Boosting_Regressor : 0.1487461422866403\n"
     ]
    }
   ],
   "source": [
    "pred = gbtr.predict(X_test)\n",
    "mse = mean_squared_error(Y_test,pred)\n",
    "rmse = mean_squared_error(Y_test,pred,squared=False)\n",
    "mae = mean_absolute_error(Y_test,pred)\n",
    "print(f\"Mean Squared Error for Gradient_Boosting_Regressor :  {mse}\")\n",
    "print(f\"Root Mean Squared Error Gradient_Boosting_Regressor : {rmse}\")\n",
    "print(f\"Mean Absolute Error for Gradient_Boosting_Regressor : {mae}\")"
   ]
  },
  {
   "cell_type": "raw",
   "id": "bff5ae05",
   "metadata": {},
   "source": [
    "-------------------------------------------------------------------------------------------------------------------------------"
   ]
  },
  {
   "cell_type": "code",
   "execution_count": 25,
   "id": "8b1cd63f",
   "metadata": {},
   "outputs": [
    {
     "name": "stdout",
     "output_type": "stream",
     "text": [
      "Lasso Regression Training Accuracy: 33.16588829512976\n"
     ]
    }
   ],
   "source": [
    "#Using Lasso Regression\n",
    "from sklearn.linear_model import Lasso\n",
    "lsr = Lasso(max_iter = 50)\n",
    "lsr.fit(X_train,Y_train)\n",
    "print('Lasso Regression Training Accuracy:', lsr.score(X_train, Y_train)*100)"
   ]
  },
  {
   "cell_type": "code",
   "execution_count": 26,
   "id": "42b95617",
   "metadata": {},
   "outputs": [
    {
     "name": "stdout",
     "output_type": "stream",
     "text": [
      "Mean Squared Error for Lasso Regression : 0.43390883616450243\n",
      "Root Mean Squared Error Lasso Regression : 0.6587175693455447\n",
      "Mean Absolute Error for Lasso Regression :0.5706362531691952\n"
     ]
    }
   ],
   "source": [
    "pred = lsr.predict(X_test)\n",
    "mse = mean_squared_error(Y_test,pred)\n",
    "rmse = mean_squared_error(Y_test,pred,squared=False)\n",
    "mae = mean_absolute_error(Y_test,pred)\n",
    "print(f\"Mean Squared Error for Lasso Regression : {mse}\")\n",
    "print(f\"Root Mean Squared Error Lasso Regression : {rmse}\")\n",
    "print(f\"Mean Absolute Error for Lasso Regression :{mae}\")"
   ]
  },
  {
   "cell_type": "raw",
   "id": "1b7b459e",
   "metadata": {},
   "source": [
    "-------------------------------------------------------------------------------------------------------------------------------"
   ]
  },
  {
   "cell_type": "code",
   "execution_count": 27,
   "id": "4bfc33ce",
   "metadata": {},
   "outputs": [
    {
     "name": "stdout",
     "output_type": "stream",
     "text": [
      "XGBoost Regression Training Accuracy: 99.9909468706498\n"
     ]
    }
   ],
   "source": [
    "#Using Xgboost Regression\n",
    "import xgboost as xg\n",
    "xgb = xg.XGBRegressor()\n",
    "xgb.fit(X_train,Y_train)\n",
    "print('XGBoost Regression Training Accuracy:', xgb.score(X_train, Y_train)*100)"
   ]
  },
  {
   "cell_type": "code",
   "execution_count": 28,
   "id": "3a952d3e",
   "metadata": {},
   "outputs": [
    {
     "name": "stdout",
     "output_type": "stream",
     "text": [
      "Mean Squared Error for Xgboost_Regression : 0.04638244483512975\n",
      "Root Mean Squared Error Xgboost_Regression : 0.2153658395269077\n",
      "Mean Absolute Error for Xgboost_Regression :0.14557498544454575\n"
     ]
    }
   ],
   "source": [
    "pred = xgb.predict(X_test)\n",
    "mse = mean_squared_error(Y_test,pred)\n",
    "rmse = mean_squared_error(Y_test,pred,squared=False)\n",
    "mae = mean_absolute_error(Y_test,pred)\n",
    "print(f\"Mean Squared Error for Xgboost_Regression : {mse}\")\n",
    "print(f\"Root Mean Squared Error Xgboost_Regression : {rmse}\")\n",
    "print(f\"Mean Absolute Error for Xgboost_Regression :{mae}\")"
   ]
  },
  {
   "cell_type": "raw",
   "id": "fc2c8976",
   "metadata": {},
   "source": [
    "-------------------------------------------------------------------------------------------------------------------------------"
   ]
  },
  {
   "cell_type": "code",
   "execution_count": 29,
   "id": "bc37453e",
   "metadata": {},
   "outputs": [
    {
     "name": "stdout",
     "output_type": "stream",
     "text": [
      "Decision Tree Regression Training Accuracy: 94.89157167973767\n"
     ]
    }
   ],
   "source": [
    "#Using Decision Tree regression\n",
    "from sklearn.tree import DecisionTreeRegressor\n",
    "dtr = DecisionTreeRegressor(min_samples_leaf = 12)\n",
    "dtr.fit(X_train,Y_train)\n",
    "print('Decision Tree Regression Training Accuracy:', dtr.score(X_train, Y_train)*100)"
   ]
  },
  {
   "cell_type": "code",
   "execution_count": 30,
   "id": "e90da549",
   "metadata": {},
   "outputs": [
    {
     "name": "stdout",
     "output_type": "stream",
     "text": [
      "Mean Squared Error for  Decision_Tree_Regressor : 0.03354250257201645\n",
      "Root Mean Squared Error  Decision_Tree_Regressor : 0.18314612355170515\n",
      "Mean Absolute Error for  Decision_Tree_Regressor : 0.13384259259259254\n"
     ]
    }
   ],
   "source": [
    "pred = dtr.predict(X_test)\n",
    "mse = mean_squared_error(Y_test,pred)\n",
    "rmse = mean_squared_error(Y_test,pred,squared=False)\n",
    "mae = mean_absolute_error(Y_test,pred)\n",
    "print(f\"Mean Squared Error for  Decision_Tree_Regressor : {mse}\")\n",
    "print(f\"Root Mean Squared Error  Decision_Tree_Regressor : {rmse}\")\n",
    "print(f\"Mean Absolute Error for  Decision_Tree_Regressor : {mae}\")"
   ]
  },
  {
   "cell_type": "raw",
   "id": "5c5a015d",
   "metadata": {},
   "source": [
    "-------------------------------------------------------------------------------------------------------------------------------"
   ]
  },
  {
   "cell_type": "code",
   "execution_count": 31,
   "id": "5b6e6193",
   "metadata": {},
   "outputs": [
    {
     "name": "stdout",
     "output_type": "stream",
     "text": [
      "SVM Regression Training Accuracy: 85.30640483214395\n"
     ]
    },
    {
     "name": "stderr",
     "output_type": "stream",
     "text": [
      "C:\\Users\\DELL\\anaconda3\\lib\\site-packages\\sklearn\\svm\\_base.py:255: ConvergenceWarning: Solver terminated early (max_iter=7).  Consider pre-processing your data with StandardScaler or MinMaxScaler.\n",
      "  warnings.warn('Solver terminated early (max_iter=%i).'\n"
     ]
    }
   ],
   "source": [
    "#Using SVR Regression\n",
    "from sklearn.svm import SVR\n",
    "svr = SVR(kernel = 'rbf',gamma = 7,max_iter = 7)\n",
    "svr.fit(X_train,Y_train)\n",
    "print('SVM Regression Training Accuracy:', svr.score(X_train, Y_train)*100)"
   ]
  },
  {
   "cell_type": "code",
   "execution_count": 32,
   "id": "b3ca4d5f",
   "metadata": {
    "scrolled": true
   },
   "outputs": [
    {
     "name": "stdout",
     "output_type": "stream",
     "text": [
      "Mean Squared Error for SVR Regression : 0.15438432323287438\n",
      "Root Mean Squared Error SVR Regression : 0.3929177054204536\n",
      "Mean Absolute Error for SVR Regressionr : 0.3020351226837967\n"
     ]
    }
   ],
   "source": [
    "pred = svr.predict(X_test)\n",
    "mse = mean_squared_error(Y_test,pred)\n",
    "rmse = mean_squared_error(Y_test,pred,squared=False)\n",
    "mae = mean_absolute_error(Y_test,pred)\n",
    "print(f\"Mean Squared Error for SVR Regression : {mse}\")\n",
    "print(f\"Root Mean Squared Error SVR Regression : {rmse}\")\n",
    "print(f\"Mean Absolute Error for SVR Regressionr : {mae}\")"
   ]
  },
  {
   "cell_type": "markdown",
   "id": "eeddc477",
   "metadata": {},
   "source": [
    "### 4: Outcome"
   ]
  },
  {
   "cell_type": "markdown",
   "id": "aa613909",
   "metadata": {},
   "source": [
    "**Thus we can conclude that:**\n",
    "\n",
    "     Model with highest training accuracy: XGboost Regression & Gradient Boosting Regressor (99.99%)\n",
    "     Model with lowest RMSE: Linear Regressor & Random Forest (0.17)"
   ]
  }
 ],
 "metadata": {
  "kernelspec": {
   "display_name": "Python 3 (ipykernel)",
   "language": "python",
   "name": "python3"
  },
  "language_info": {
   "codemirror_mode": {
    "name": "ipython",
    "version": 3
   },
   "file_extension": ".py",
   "mimetype": "text/x-python",
   "name": "python",
   "nbconvert_exporter": "python",
   "pygments_lexer": "ipython3",
   "version": "3.9.7"
  }
 },
 "nbformat": 4,
 "nbformat_minor": 5
}
